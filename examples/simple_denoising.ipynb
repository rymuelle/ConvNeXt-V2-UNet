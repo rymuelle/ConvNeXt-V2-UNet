{
 "cells": [
  {
   "cell_type": "code",
   "execution_count": 1,
   "id": "ed976820",
   "metadata": {},
   "outputs": [
    {
     "name": "stderr",
     "output_type": "stream",
     "text": [
      "/Users/joe/Development/ryan/ConvNeXt-V2-UNet/.venv/lib/python3.13/site-packages/tqdm/auto.py:21: TqdmWarning: IProgress not found. Please update jupyter and ipywidgets. See https://ipywidgets.readthedocs.io/en/stable/user_install.html\n",
      "  from .autonotebook import tqdm as notebook_tqdm\n",
      "2025/06/16 12:50:15 INFO mlflow.tracking.fluent: Experiment with name 'ConvNeXtV2-UNet' does not exist. Creating a new experiment.\n"
     ]
    },
    {
     "data": {
      "text/plain": [
       "<Experiment: artifact_location='file:///Users/joe/Development/ryan/ConvNeXt-V2-UNet/examples/mlruns/187479759740700411', creation_time=1750103415105, experiment_id='187479759740700411', last_update_time=1750103415105, lifecycle_stage='active', name='ConvNeXtV2-UNet', tags={}>"
      ]
     },
     "execution_count": 1,
     "metadata": {},
     "output_type": "execute_result"
    }
   ],
   "source": [
    "from ConvNeXtUNet.convnextv2_unet import convnextv2unet_atto\n",
    "from ConvNeXtUNet.losses.MultiScaleLoss import MultiScaleLoss\n",
    "\n",
    "import mlflow\n",
    "\n",
    "mlflow.autolog()\n",
    "mlflow.set_experiment(\"ConvNeXtV2-UNet\")\n"
   ]
  },
  {
   "cell_type": "code",
   "execution_count": 2,
   "id": "10c7b775",
   "metadata": {},
   "outputs": [],
   "source": [
    "# Three models with predefined sizes are provided\n",
    "model = convnextv2unet_atto(ms_output=True)"
   ]
  },
  {
   "cell_type": "markdown",
   "id": "c1cbfaf6",
   "metadata": {},
   "source": [
    "Now, lets do a simple image denoising task as a demonstration of the U-Net"
   ]
  },
  {
   "cell_type": "code",
   "execution_count": 3,
   "id": "46efe38c",
   "metadata": {},
   "outputs": [],
   "source": [
    "import torch\n",
    "import matplotlib.pyplot as plt"
   ]
  },
  {
   "cell_type": "code",
   "execution_count": 4,
   "id": "393b1f3d",
   "metadata": {},
   "outputs": [
    {
     "data": {
      "text/plain": [
       "<matplotlib.image.AxesImage at 0x14fffacf0>"
      ]
     },
     "execution_count": 4,
     "metadata": {},
     "output_type": "execute_result"
    },
    {
     "data": {
      "image/png": "[encoded data removed]",
      "text/plain": [
       "<Figure size 640x480 with 1 Axes>"
      ]
     },
     "metadata": {},
     "output_type": "display_data"
    }
   ],
   "source": [
    "# This function creates a synthetic image\n",
    "# We can add noise to this to simulate a noisy image\n",
    "\n",
    "import random\n",
    "\n",
    "\n",
    "def create_random_pixel_image(channels, height, width):\n",
    "    \"\"\"\n",
    "    Generates a 2D tensor (image) of zeros with a single '1' at the center pixel.\n",
    "\n",
    "    Args:\n",
    "    channels: The channels of the image (number of channels).\n",
    "    height: The height of the image (number of rows).\n",
    "    width: The width of the image (number of columns).\n",
    "\n",
    "    Returns:\n",
    "    A torch.Tensor of shape (height, width) with dtype torch.float32.\n",
    "    \"\"\"\n",
    "    if height <= 0 or width <= 0:\n",
    "        raise ValueError(\"Height and width must be positive integers.\")\n",
    "\n",
    "    image = torch.zeros((channels, height, width), dtype=torch.float32)\n",
    "\n",
    "    pixel_height = random.randint(0, height - 2)\n",
    "    pixel_width = random.randint(0, width - 2)\n",
    "\n",
    "    for channel in range(channels):\n",
    "        image[channel, pixel_height, pixel_width] = 1.0\n",
    "        image[channel, pixel_height + 1, pixel_width + 1] = 1.0\n",
    "        image[channel, pixel_height, pixel_width + 1] = 1.0\n",
    "        image[channel, pixel_height + 1, pixel_width] = 1.0\n",
    "\n",
    "    return image.unsqueeze(0)\n",
    "\n",
    "\n",
    "sample_image = create_random_pixel_image(3, 32, 32)\n",
    "plt.imshow(sample_image[0].permute(1, 2, 0))"
   ]
  },
  {
   "cell_type": "code",
   "execution_count": 5,
   "id": "562e153b",
   "metadata": {},
   "outputs": [
    {
     "name": "stderr",
     "output_type": "stream",
     "text": [
      "Clipping input data to the valid range for imshow with RGB data ([0..1] for floats or [0..255] for integers). Got range [0.00020894408..1.4206698].\n"
     ]
    },
    {
     "data": {
      "text/plain": [
       "<matplotlib.image.AxesImage at 0x15c6d82d0>"
      ]
     },
     "execution_count": 5,
     "metadata": {},
     "output_type": "execute_result"
    },
    {
     "data": {
      "image/png": "[encoded data removed]",
      "text/plain": [
       "<Figure size 640x480 with 1 Axes>"
      ]
     },
     "metadata": {},
     "output_type": "display_data"
    }
   ],
   "source": [
    "def add_noise(image, scale=0.5):\n",
    "    B, C, W, H = image.shape\n",
    "    image += torch.rand(B, C, W, H) * scale\n",
    "    return image\n",
    "\n",
    "\n",
    "noisy_sample = add_noise(sample_image)\n",
    "plt.imshow(noisy_sample[0].permute(1, 2, 0))"
   ]
  },
  {
   "cell_type": "markdown",
   "id": "db16479a",
   "metadata": {},
   "source": [
    "Now, let's train our model."
   ]
  },
  {
   "cell_type": "code",
   "execution_count": 6,
   "id": "b631a468",
   "metadata": {},
   "outputs": [
    {
     "data": {
      "text/plain": [
       "device(type='mps')"
      ]
     },
     "execution_count": 6,
     "metadata": {},
     "output_type": "execute_result"
    }
   ],
   "source": [
    "def get_device():\n",
    "    if torch.cuda.is_available():\n",
    "        return torch.device(\"mps\")\n",
    "    if torch.mps.is_available():\n",
    "        return torch.device(\"mps\")\n",
    "    return torch.device(\"cpu\")\n",
    "\n",
    "\n",
    "device = get_device()\n",
    "device"
   ]
  },
  {
   "cell_type": "code",
   "execution_count": 7,
   "id": "0e804435",
   "metadata": {},
   "outputs": [],
   "source": [
    "# These training parameters are not optimizd and are merely meant to quickly demonstrate training.\n",
    "\n",
    "num_epochs = 10\n",
    "num_batches = 10\n",
    "batch_size = 3\n",
    "\n",
    "lr = 2e-4\n",
    "opt = torch.optim.Adam(model.parameters(), lr=lr)\n",
    "sched = torch.optim.lr_scheduler.CosineAnnealingLR(opt, num_epochs)\n",
    "loss_func = MultiScaleLoss(loss_criterion=torch.nn.MSELoss())\n",
    "\n",
    "\n",
    "model = model.to(device)\n",
    "\n",
    "# model_info = mlflow.pytorch.log_model(model, \"model1\")"
   ]
  },
  {
   "cell_type": "code",
   "execution_count": 8,
   "id": "a7852f26",
   "metadata": {},
   "outputs": [
    {
     "name": "stdout",
     "output_type": "stream",
     "text": [
      "Epoch 0: Loss: 2.48e-01 LR: 2.00e-04\n",
      "Epoch 1: Loss: 7.12e-02 LR: 1.95e-04\n",
      "Epoch 2: Loss: 5.27e-02 LR: 1.81e-04\n",
      "Epoch 3: Loss: 4.20e-02 LR: 1.59e-04\n",
      "Epoch 4: Loss: 3.43e-02 LR: 1.31e-04\n",
      "Epoch 5: Loss: 4.54e-02 LR: 1.00e-04\n",
      "Epoch 6: Loss: 3.56e-02 LR: 6.91e-05\n",
      "Epoch 7: Loss: 3.85e-02 LR: 4.12e-05\n",
      "Epoch 8: Loss: 3.42e-02 LR: 1.91e-05\n",
      "Epoch 9: Loss: 2.99e-02 LR: 4.89e-06\n"
     ]
    }
   ],
   "source": [
    "mlflow.start_run()\n",
    "for epoch in range(num_epochs):\n",
    "    total_loss_per_batch = 0\n",
    "    for batch in range(num_batches):\n",
    "        ground_truth = torch.cat(\n",
    "            [create_random_pixel_image(3, 32, 32) for _ in range(batch_size)]\n",
    "        )\n",
    "        noisy_images = add_noise(ground_truth.clone())\n",
    "\n",
    "        ground_truth = ground_truth.to(device)\n",
    "        noisy_images = noisy_images.to(device)\n",
    "\n",
    "        pred = model(noisy_images)\n",
    "        loss = loss_func(pred, ground_truth)\n",
    "\n",
    "        opt.zero_grad()\n",
    "        loss.backward()\n",
    "        opt.step()\n",
    "\n",
    "        total_loss_per_batch += loss\n",
    "        mlflow.log_metric(\"loss\", loss.item())\n",
    "    # MSE by default computes the mean, so divide by batches\n",
    "    print(\n",
    "        f\"Epoch {epoch}: Loss: {total_loss_per_batch / num_batches:.2e} LR: {sched.get_last_lr()[0]:.2e}\"\n",
    "    )\n",
    "    sched.step()\n",
    "    mlflow.log_metric(\"lr\", sched.get_last_lr()[0])\n",
    "mlflow.end_run()"
   ]
  },
  {
   "cell_type": "code",
   "execution_count": 9,
   "id": "d5016250",
   "metadata": {},
   "outputs": [
    {
     "name": "stderr",
     "output_type": "stream",
     "text": [
      "Clipping input data to the valid range for imshow with RGB data ([0..1] for floats or [0..255] for integers). Got range [0.00017777085..1.441683].\n",
      "Clipping input data to the valid range for imshow with RGB data ([0..1] for floats or [0..255] for integers). Got range [-0.4025962..0.29686502].\n",
      "Clipping input data to the valid range for imshow with RGB data ([0..1] for floats or [0..255] for integers). Got range [-0.21736035..1.5357946].\n"
     ]
    },
    {
     "data": {
      "image/png": "[encoded data removed]",
      "text/plain": [
       "<Figure size 640x480 with 4 Axes>"
      ]
     },
     "metadata": {},
     "output_type": "display_data"
    }
   ],
   "source": [
    "def format_tensor(tensor):\n",
    "    return tensor.detach().cpu().permute(1, 2, 0)\n",
    "\n",
    "\n",
    "fig, ax = plt.subplots(nrows=2, ncols=2)\n",
    "\n",
    "plt.subplot(2, 2, 1)\n",
    "noisy_img = format_tensor(noisy_images[0])\n",
    "plt.imshow(noisy_img)\n",
    "plt.title(\"Noisy image\")\n",
    "\n",
    "plt.subplot(2, 2, 2)\n",
    "pred_img = format_tensor(pred[-1][0])\n",
    "plt.imshow(pred_img)\n",
    "plt.title(\"Denoised image\")\n",
    "\n",
    "plt.subplot(2, 2, 3)\n",
    "gt_image = format_tensor(ground_truth[0])\n",
    "plt.imshow(gt_image)\n",
    "plt.title(\"Ground truth\")\n",
    "\n",
    "plt.subplot(2, 2, 4)\n",
    "plt.imshow(noisy_img - pred_img)\n",
    "plt.title(\"Extracted noise\")\n",
    "\n",
    "plt.tight_layout()\n",
    "plt.show()"
   ]
  },
  {
   "cell_type": "code",
   "execution_count": null,
   "id": "fb291abf",
   "metadata": {},
   "outputs": [],
   "source": []
  }
 ],
 "metadata": {
  "kernelspec": {
   "display_name": ".venv",
   "language": "python",
   "name": "python3"
  },
  "language_info": {
   "codemirror_mode": {
    "name": "ipython",
    "version": 3
   },
   "file_extension": ".py",
   "mimetype": "text/x-python",
   "name": "python",
   "nbconvert_exporter": "python",
   "pygments_lexer": "ipython3",
   "version": "3.13.2"
  }
 },
 "nbformat": 4,
 "nbformat_minor": 5
}
